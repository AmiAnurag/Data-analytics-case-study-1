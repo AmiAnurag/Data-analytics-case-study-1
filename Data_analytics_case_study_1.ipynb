{
  "nbformat": 4,
  "nbformat_minor": 0,
  "metadata": {
    "colab": {
      "name": "Data analytics case study 1",
      "provenance": [],
      "collapsed_sections": [],
      "authorship_tag": "ABX9TyOSmKpLJ54qS+cZWVEFs8eg"
    },
    "kernelspec": {
      "name": "python3",
      "display_name": "Python 3"
    },
    "language_info": {
      "name": "python"
    }
  },
  "cells": [
    {
      "cell_type": "markdown",
      "metadata": {
        "id": "2aNaw2n67ofC"
      },
      "source": [
        "Analyzing the sports data - this analytics case study is all about analyzing different aspect of the odi series played in 2018."
      ]
    },
    {
      "cell_type": "code",
      "metadata": {
        "id": "qUVpKQAN7yj2"
      },
      "source": [
        "import pandas as pd\n",
        "import numpy as np\n",
        "from matplotlib import pyplot as plt\n",
        "import math"
      ],
      "execution_count": 2,
      "outputs": []
    },
    {
      "cell_type": "markdown",
      "metadata": {
        "id": "FVc6FANF7sJ3"
      },
      "source": [
        "\n",
        "\n",
        "*   Importing the data\n"
      ]
    },
    {
      "cell_type": "code",
      "metadata": {
        "colab": {
          "base_uri": "https://localhost:8080/",
          "height": 205
        },
        "id": "pHPgwhsK8f42",
        "outputId": "48d43711-75d8-4fc0-9bdb-91b73cc4fd6d"
      },
      "source": [
        "df=pd.read_csv('https://raw.githubusercontent.com/AmiAnurag/Data-analytics-case-study-1/main/1%20-%202019%20ODI%20Cricket%20Matches.xlsx%20-%20Sheet1.csv')\n",
        "df.head()"
      ],
      "execution_count": 3,
      "outputs": [
        {
          "output_type": "execute_result",
          "data": {
            "text/html": [
              "<div>\n",
              "<style scoped>\n",
              "    .dataframe tbody tr th:only-of-type {\n",
              "        vertical-align: middle;\n",
              "    }\n",
              "\n",
              "    .dataframe tbody tr th {\n",
              "        vertical-align: top;\n",
              "    }\n",
              "\n",
              "    .dataframe thead th {\n",
              "        text-align: right;\n",
              "    }\n",
              "</style>\n",
              "<table border=\"1\" class=\"dataframe\">\n",
              "  <thead>\n",
              "    <tr style=\"text-align: right;\">\n",
              "      <th></th>\n",
              "      <th>Team 1</th>\n",
              "      <th>Team 2</th>\n",
              "      <th>Winner</th>\n",
              "      <th>Margin</th>\n",
              "      <th>Ground</th>\n",
              "      <th>Match Date</th>\n",
              "      <th>Scorecard</th>\n",
              "    </tr>\n",
              "  </thead>\n",
              "  <tbody>\n",
              "    <tr>\n",
              "      <th>0</th>\n",
              "      <td>New Zealand</td>\n",
              "      <td>Pakistan</td>\n",
              "      <td>New Zealand</td>\n",
              "      <td>61 runs</td>\n",
              "      <td>Wellington</td>\n",
              "      <td>6-Jan-18</td>\n",
              "      <td>ODI # 3946</td>\n",
              "    </tr>\n",
              "    <tr>\n",
              "      <th>1</th>\n",
              "      <td>New Zealand</td>\n",
              "      <td>Pakistan</td>\n",
              "      <td>New Zealand</td>\n",
              "      <td>8 wickets</td>\n",
              "      <td>Nelson</td>\n",
              "      <td>9-Jan-18</td>\n",
              "      <td>ODI # 3947</td>\n",
              "    </tr>\n",
              "    <tr>\n",
              "      <th>2</th>\n",
              "      <td>U.A.E.</td>\n",
              "      <td>Ireland</td>\n",
              "      <td>Ireland</td>\n",
              "      <td>4 wickets</td>\n",
              "      <td>ICCA Dubai</td>\n",
              "      <td>11-Jan-18</td>\n",
              "      <td>ODI # 3948</td>\n",
              "    </tr>\n",
              "    <tr>\n",
              "      <th>3</th>\n",
              "      <td>New Zealand</td>\n",
              "      <td>Pakistan</td>\n",
              "      <td>New Zealand</td>\n",
              "      <td>183 runs</td>\n",
              "      <td>Dunedin</td>\n",
              "      <td>13-Jan-18</td>\n",
              "      <td>ODI # 3949</td>\n",
              "    </tr>\n",
              "    <tr>\n",
              "      <th>4</th>\n",
              "      <td>U.A.E.</td>\n",
              "      <td>Ireland</td>\n",
              "      <td>Ireland</td>\n",
              "      <td>67 runs</td>\n",
              "      <td>ICCA Dubai</td>\n",
              "      <td>13-Jan-18</td>\n",
              "      <td>ODI # 3950</td>\n",
              "    </tr>\n",
              "  </tbody>\n",
              "</table>\n",
              "</div>"
            ],
            "text/plain": [
              "        Team 1    Team 2       Winner  ...      Ground Match Date   Scorecard\n",
              "0  New Zealand  Pakistan  New Zealand  ...  Wellington   6-Jan-18  ODI # 3946\n",
              "1  New Zealand  Pakistan  New Zealand  ...      Nelson   9-Jan-18  ODI # 3947\n",
              "2       U.A.E.   Ireland      Ireland  ...  ICCA Dubai  11-Jan-18  ODI # 3948\n",
              "3  New Zealand  Pakistan  New Zealand  ...     Dunedin  13-Jan-18  ODI # 3949\n",
              "4       U.A.E.   Ireland      Ireland  ...  ICCA Dubai  13-Jan-18  ODI # 3950\n",
              "\n",
              "[5 rows x 7 columns]"
            ]
          },
          "metadata": {},
          "execution_count": 3
        }
      ]
    },
    {
      "cell_type": "markdown",
      "metadata": {
        "id": "_MsX90CQ81U_"
      },
      "source": [
        "Transform the margin column into two different columns - one for runs and another for wicket"
      ]
    },
    {
      "cell_type": "code",
      "metadata": {
        "id": "wIXW-lp-9COQ"
      },
      "source": [
        "df.dropna(inplace=True)\n",
        "run=[]\n",
        "wick=[]\n",
        "for i in df.Margin:\n",
        "  if 'run' in i:\n",
        "    run.append(i)\n",
        "    wick.append(np.nan)\n",
        "  else:\n",
        "    run.append(np.nan)\n",
        "    wick.append(i)"
      ],
      "execution_count": 4,
      "outputs": []
    },
    {
      "cell_type": "code",
      "metadata": {
        "colab": {
          "base_uri": "https://localhost:8080/",
          "height": 205
        },
        "id": "ZFYE4649EOjR",
        "outputId": "432f3585-f9b5-486f-a31a-e76e4e35d0cd"
      },
      "source": [
        "run=pd.Series(run)\n",
        "wick=pd.Series(wick)\n",
        "df['Run Margin']=run\n",
        "df['Wicket Margin']=wick\n",
        "df.head()"
      ],
      "execution_count": 5,
      "outputs": [
        {
          "output_type": "execute_result",
          "data": {
            "text/html": [
              "<div>\n",
              "<style scoped>\n",
              "    .dataframe tbody tr th:only-of-type {\n",
              "        vertical-align: middle;\n",
              "    }\n",
              "\n",
              "    .dataframe tbody tr th {\n",
              "        vertical-align: top;\n",
              "    }\n",
              "\n",
              "    .dataframe thead th {\n",
              "        text-align: right;\n",
              "    }\n",
              "</style>\n",
              "<table border=\"1\" class=\"dataframe\">\n",
              "  <thead>\n",
              "    <tr style=\"text-align: right;\">\n",
              "      <th></th>\n",
              "      <th>Team 1</th>\n",
              "      <th>Team 2</th>\n",
              "      <th>Winner</th>\n",
              "      <th>Margin</th>\n",
              "      <th>Ground</th>\n",
              "      <th>Match Date</th>\n",
              "      <th>Scorecard</th>\n",
              "      <th>Run Margin</th>\n",
              "      <th>Wicket Margin</th>\n",
              "    </tr>\n",
              "  </thead>\n",
              "  <tbody>\n",
              "    <tr>\n",
              "      <th>0</th>\n",
              "      <td>New Zealand</td>\n",
              "      <td>Pakistan</td>\n",
              "      <td>New Zealand</td>\n",
              "      <td>61 runs</td>\n",
              "      <td>Wellington</td>\n",
              "      <td>6-Jan-18</td>\n",
              "      <td>ODI # 3946</td>\n",
              "      <td>61 runs</td>\n",
              "      <td>NaN</td>\n",
              "    </tr>\n",
              "    <tr>\n",
              "      <th>1</th>\n",
              "      <td>New Zealand</td>\n",
              "      <td>Pakistan</td>\n",
              "      <td>New Zealand</td>\n",
              "      <td>8 wickets</td>\n",
              "      <td>Nelson</td>\n",
              "      <td>9-Jan-18</td>\n",
              "      <td>ODI # 3947</td>\n",
              "      <td>NaN</td>\n",
              "      <td>8 wickets</td>\n",
              "    </tr>\n",
              "    <tr>\n",
              "      <th>2</th>\n",
              "      <td>U.A.E.</td>\n",
              "      <td>Ireland</td>\n",
              "      <td>Ireland</td>\n",
              "      <td>4 wickets</td>\n",
              "      <td>ICCA Dubai</td>\n",
              "      <td>11-Jan-18</td>\n",
              "      <td>ODI # 3948</td>\n",
              "      <td>NaN</td>\n",
              "      <td>4 wickets</td>\n",
              "    </tr>\n",
              "    <tr>\n",
              "      <th>3</th>\n",
              "      <td>New Zealand</td>\n",
              "      <td>Pakistan</td>\n",
              "      <td>New Zealand</td>\n",
              "      <td>183 runs</td>\n",
              "      <td>Dunedin</td>\n",
              "      <td>13-Jan-18</td>\n",
              "      <td>ODI # 3949</td>\n",
              "      <td>183 runs</td>\n",
              "      <td>NaN</td>\n",
              "    </tr>\n",
              "    <tr>\n",
              "      <th>4</th>\n",
              "      <td>U.A.E.</td>\n",
              "      <td>Ireland</td>\n",
              "      <td>Ireland</td>\n",
              "      <td>67 runs</td>\n",
              "      <td>ICCA Dubai</td>\n",
              "      <td>13-Jan-18</td>\n",
              "      <td>ODI # 3950</td>\n",
              "      <td>67 runs</td>\n",
              "      <td>NaN</td>\n",
              "    </tr>\n",
              "  </tbody>\n",
              "</table>\n",
              "</div>"
            ],
            "text/plain": [
              "        Team 1    Team 2       Winner  ...   Scorecard Run Margin Wicket Margin\n",
              "0  New Zealand  Pakistan  New Zealand  ...  ODI # 3946    61 runs           NaN\n",
              "1  New Zealand  Pakistan  New Zealand  ...  ODI # 3947        NaN     8 wickets\n",
              "2       U.A.E.   Ireland      Ireland  ...  ODI # 3948        NaN     4 wickets\n",
              "3  New Zealand  Pakistan  New Zealand  ...  ODI # 3949   183 runs           NaN\n",
              "4       U.A.E.   Ireland      Ireland  ...  ODI # 3950    67 runs           NaN\n",
              "\n",
              "[5 rows x 9 columns]"
            ]
          },
          "metadata": {},
          "execution_count": 5
        }
      ]
    },
    {
      "cell_type": "markdown",
      "metadata": {
        "id": "pYZ5eZXrGJCV"
      },
      "source": [
        "Which country played the most odi in 2018?"
      ]
    },
    {
      "cell_type": "code",
      "metadata": {
        "colab": {
          "base_uri": "https://localhost:8080/",
          "height": 0
        },
        "id": "uDT9vQkAGGEi",
        "outputId": "bf39dbc1-792c-4768-9874-49a5ca5e2761"
      },
      "source": [
        "country=[i for i in df['Team 1']]\n",
        "country+=[i for i in df['Team 2']]\n",
        "len(country)"
      ],
      "execution_count": 6,
      "outputs": [
        {
          "output_type": "execute_result",
          "data": {
            "text/plain": [
              "246"
            ]
          },
          "metadata": {},
          "execution_count": 6
        }
      ]
    },
    {
      "cell_type": "code",
      "metadata": {
        "colab": {
          "base_uri": "https://localhost:8080/",
          "height": 0
        },
        "id": "YSJl3440GqAG",
        "outputId": "8fde4229-d0c5-4fec-a05c-9c6b4d787290"
      },
      "source": [
        "country=pd.Series(country)\n",
        "print('Hence ',country.value_counts().index[0],' played most odi in 2018')"
      ],
      "execution_count": 7,
      "outputs": [
        {
          "output_type": "stream",
          "name": "stdout",
          "text": [
            "Hence  Zimbabwe  played most odi in 2018\n"
          ]
        }
      ]
    },
    {
      "cell_type": "markdown",
      "metadata": {
        "id": "hLtZKZPXHFq-"
      },
      "source": [
        "Top three countries who won the most odi's"
      ]
    },
    {
      "cell_type": "code",
      "metadata": {
        "colab": {
          "base_uri": "https://localhost:8080/",
          "height": 0
        },
        "id": "rTYng69ZHLVQ",
        "outputId": "1d3db60b-114f-4c31-ee99-6059cfbfbda2"
      },
      "source": [
        "print('Top three countries who won most odi in 2018 are :')\n",
        "df['Winner'].value_counts().head(3)"
      ],
      "execution_count": 8,
      "outputs": [
        {
          "output_type": "stream",
          "name": "stdout",
          "text": [
            "Top three countries who won most odi in 2018 are :\n"
          ]
        },
        {
          "output_type": "execute_result",
          "data": {
            "text/plain": [
              "England       17\n",
              "India         14\n",
              "Bangladesh    13\n",
              "Name: Winner, dtype: int64"
            ]
          },
          "metadata": {},
          "execution_count": 8
        }
      ]
    },
    {
      "cell_type": "markdown",
      "metadata": {
        "id": "huXH1eg0uTDx"
      },
      "source": [
        "How was the performance of Srilanka?"
      ]
    },
    {
      "cell_type": "code",
      "metadata": {
        "colab": {
          "base_uri": "https://localhost:8080/",
          "height": 266
        },
        "id": "hzCD32eDA23u",
        "outputId": "db3b5ce0-88fc-4608-f011-3ce8831aafbf"
      },
      "source": [
        "total=df['Team 1'].value_counts()['Sri Lanka']+df['Team 2'].value_counts()['Sri Lanka']\n",
        "win=df.Winner.value_counts()['Sri Lanka']\n",
        "win_per=win/total * 100\n",
        "print('Winning percent of Srilanka is '+str(win_per),'%')\n",
        "plt.pie([win,total],labels=['Win','Total Matches Played'],explode=[0.1,0],shadow=True)\n",
        "plt.legend()\n",
        "plt.show()"
      ],
      "execution_count": 9,
      "outputs": [
        {
          "output_type": "stream",
          "name": "stdout",
          "text": [
            "Winning percent of Srilanka is 37.5 %\n"
          ]
        },
        {
          "output_type": "display_data",
          "data": {
            "image/png": "[encoded data removed]",
            "text/plain": [
              "<Figure size 432x288 with 1 Axes>"
            ]
          },
          "metadata": {}
        }
      ]
    },
    {
      "cell_type": "markdown",
      "metadata": {
        "id": "HCNpte-3vA_7"
      },
      "source": [
        "What were the top three wins by run?"
      ]
    },
    {
      "cell_type": "code",
      "metadata": {
        "id": "hQFlAjfTFlys",
        "colab": {
          "base_uri": "https://localhost:8080/",
          "height": 0
        },
        "outputId": "fc21b3b9-4ca1-4bd8-84ef-fe36b814a9cb"
      },
      "source": [
        "run=[]\n",
        "for i in df['Run Margin']:\n",
        "  try:\n",
        "    if math.isnan(i):\n",
        "      run.append(0)\n",
        "  except:\n",
        "    run.append(int(i.split()[0]))\n",
        "\n",
        "#function to find top three maximum value in a list\n",
        "def top_3(lst,l):\n",
        "  if len(l)==3:\n",
        "    return l\n",
        "  else:\n",
        "    l.append(lst.index(max(lst)))\n",
        "    lst[lst.index(max(lst))]=0\n",
        "    return top_3(lst,l)\n",
        "\n",
        "run_3=[]\n",
        "run_3=top_3(run,run_3)\n",
        "\n",
        "print(f'The top win by run is {df.Winner[run_3[0]]} , second winner is {df.Winner[run_3[1]]} , third is {df.Winner[run_3[2]]}')"
      ],
      "execution_count": 10,
      "outputs": [
        {
          "output_type": "stream",
          "name": "stdout",
          "text": [
            "The top win by run is England , second winner is England , third is Ireland\n"
          ]
        }
      ]
    },
    {
      "cell_type": "markdown",
      "metadata": {
        "id": "M1cqOFlvvEe4"
      },
      "source": [
        "Months in which most odis were played?"
      ]
    },
    {
      "cell_type": "code",
      "metadata": {
        "colab": {
          "base_uri": "https://localhost:8080/",
          "height": 265
        },
        "id": "KnnesfSiLPbL",
        "outputId": "eed15c15-ef1f-4fe9-b419-d2d18d5a045e"
      },
      "source": [
        "month=['Jan','Feb','Mar','Apr','May','Jun','Jul','Aug','Sep','Oct','Nov','Dec']\n",
        "odi={}\n",
        "for i in month:\n",
        "  odi[i]=0\n",
        "  for j in df['Match Date']:\n",
        "    if i.lower() in j.lower():\n",
        "      odi[i]+=1\n",
        "plt.bar(odi.keys(),odi.values())\n",
        "plt.show()"
      ],
      "execution_count": 11,
      "outputs": [
        {
          "output_type": "display_data",
          "data": {
            "image/png": "[encoded data removed]",
            "text/plain": [
              "<Figure size 432x288 with 1 Axes>"
            ]
          },
          "metadata": {
            "needs_background": "light"
          }
        }
      ]
    },
    {
      "cell_type": "code",
      "metadata": {
        "colab": {
          "base_uri": "https://localhost:8080/",
          "height": 0
        },
        "id": "IoH3iPQPNZvM",
        "outputId": "e8688074-f55c-493f-e2b4-7d91499146df"
      },
      "source": [
        "print('Top Three Months are')\n",
        "pd.Series(odi).sort_values(ascending=False).head(3)"
      ],
      "execution_count": 12,
      "outputs": [
        {
          "output_type": "stream",
          "name": "stdout",
          "text": [
            "Top Three Months are\n"
          ]
        },
        {
          "output_type": "execute_result",
          "data": {
            "text/plain": [
              "Mar    25\n",
              "Jan    23\n",
              "Sep    13\n",
              "dtype: int64"
            ]
          },
          "metadata": {},
          "execution_count": 12
        }
      ]
    },
    {
      "cell_type": "markdown",
      "metadata": {
        "id": "SqKqkHuQvfFP"
      },
      "source": [
        "How many cricket matches were played each month?"
      ]
    },
    {
      "cell_type": "code",
      "metadata": {
        "colab": {
          "base_uri": "https://localhost:8080/",
          "height": 811
        },
        "id": "uHCi-yOzPY-E",
        "outputId": "0512cfa8-aa29-4d53-cd0b-8972d920f261"
      },
      "source": [
        "print('Matches played each month are :')\n",
        "for i in range(len(odi)):\n",
        "  print(f'Matches played in {list(odi.keys())[i]} are {list(odi.values())[i]}')\n",
        "\n",
        "f=plt.figure(figsize=(10,10))\n",
        "plt.pie(odi.values(),labels=odi.keys())\n",
        "plt.show()"
      ],
      "execution_count": 13,
      "outputs": [
        {
          "output_type": "stream",
          "name": "stdout",
          "text": [
            "Matches played each month are :\n",
            "Matches played in Jan are 23\n",
            "Matches played in Feb are 13\n",
            "Matches played in Mar are 25\n",
            "Matches played in Apr are 0\n",
            "Matches played in May are 0\n",
            "Matches played in Jun are 6\n",
            "Matches played in Jul are 12\n",
            "Matches played in Aug are 10\n",
            "Matches played in Sep are 13\n",
            "Matches played in Oct are 12\n",
            "Matches played in Nov are 6\n",
            "Matches played in Dec are 3\n"
          ]
        },
        {
          "output_type": "display_data",
          "data": {
            "image/png": "[encoded data removed]",
            "text/plain": [
              "<Figure size 720x720 with 1 Axes>"
            ]
          },
          "metadata": {}
        }
      ]
    },
    {
      "cell_type": "markdown",
      "metadata": {
        "id": "dkSNexxmv9HD"
      },
      "source": [
        "On which ground most games were played"
      ]
    },
    {
      "cell_type": "code",
      "metadata": {
        "colab": {
          "base_uri": "https://localhost:8080/",
          "height": 0
        },
        "id": "O1BhRp4rR21Z",
        "outputId": "e48715ee-9907-453f-addb-8b20486dc800"
      },
      "source": [
        "print('Most games were played in ',df.Ground.value_counts().index[0],' ground')"
      ],
      "execution_count": 14,
      "outputs": [
        {
          "output_type": "stream",
          "name": "stdout",
          "text": [
            "Most games were played in  Harare  ground\n"
          ]
        }
      ]
    },
    {
      "cell_type": "markdown",
      "metadata": {
        "id": "3Pek3YAywAli"
      },
      "source": [
        "Did India won mostly by chasing or playing first?"
      ]
    },
    {
      "cell_type": "code",
      "metadata": {
        "colab": {
          "base_uri": "https://localhost:8080/",
          "height": 0
        },
        "id": "s06aAzL3SG6l",
        "outputId": "0c91b5fe-4d59-4ac5-f4b1-ce1148a19ea6"
      },
      "source": [
        "india=df[np.where(df['Winner']=='India',True,False)]\n",
        "print('Won By chasing ',india['Run Margin'].isnull().sum(),'games')\n",
        "print('Won by playing first',india['Wicket Margin'].isnull().sum(),'games')\n",
        "print('As both value are equal so its an equal probability chance for India to win in both cases')"
      ],
      "execution_count": 15,
      "outputs": [
        {
          "output_type": "stream",
          "name": "stdout",
          "text": [
            "Won By chasing  7 games\n",
            "Won by playing first 7 games\n",
            "As both value are equal so its an equal probability chance for India to win in both cases\n"
          ]
        }
      ]
    },
    {
      "cell_type": "markdown",
      "metadata": {
        "id": "-4T60jQkwJcC"
      },
      "source": [
        "Top three countries who win most matches in 2018 , what was their winning % every month?"
      ]
    },
    {
      "cell_type": "code",
      "metadata": {
        "colab": {
          "base_uri": "https://localhost:8080/",
          "height": 0
        },
        "id": "5ADFhtp3n9zi",
        "outputId": "b02c5524-2205-4821-b8df-862a129db90d"
      },
      "source": [
        "cummulative_match=pd.Series(odi)\n",
        "for i in range(1,len(cummulative_match)):\n",
        "  cummulative_match[i]+=cummulative_match[i-1]\n",
        "performer=dict(df.Winner.value_counts().head(3))\n",
        "cummulative_match=dict(cummulative_match)\n",
        "win_3={}\n",
        "k=0\n",
        "for i in performer:\n",
        "  win_3[i]={}\n",
        "  for j in cummulative_match:\n",
        "    try:\n",
        "      team1=df.iloc[k:cummulative_match[j],:]['Team 1'].value_counts()[i]\n",
        "    except:\n",
        "      team1=0\n",
        "    try:\n",
        "      team2=df.iloc[k:cummulative_match[j],:]['Team 2'].value_counts()[i]\n",
        "    except:\n",
        "      team2=0\n",
        "    total=team1+team2\n",
        "    try:\n",
        "      win=df.iloc[k:cummulative_match[j],:]['Winner'].value_counts()[i]\n",
        "    except:\n",
        "      win=0\n",
        "    k=cummulative_match[j]\n",
        "    if win!=0 and total!=0:\n",
        "      win_3[i][j]=win/total\n",
        "      print('Winning Percent of ',i,' in month of ',j,end=' ')\n",
        "      print(round((win/total)*100,3),'%',' [Total Matches Played:',total,' Wins :',win,']')\n",
        "    else:\n",
        "      print()"
      ],
      "execution_count": 16,
      "outputs": [
        {
          "output_type": "stream",
          "name": "stdout",
          "text": [
            "Winning Percent of  England  in month of  Jan 80.0 %  [Total Matches Played: 5  Wins : 4 ]\n",
            "Winning Percent of  England  in month of  Feb 50.0 %  [Total Matches Played: 2  Wins : 1 ]\n",
            "Winning Percent of  England  in month of  Mar 66.667 %  [Total Matches Played: 3  Wins : 2 ]\n",
            "\n",
            "\n",
            "Winning Percent of  England  in month of  Jun 83.333 %  [Total Matches Played: 6  Wins : 5 ]\n",
            "Winning Percent of  England  in month of  Jul 66.667 %  [Total Matches Played: 3  Wins : 2 ]\n",
            "\n",
            "\n",
            "Winning Percent of  England  in month of  Oct 75.0 %  [Total Matches Played: 4  Wins : 3 ]\n",
            "\n",
            "\n",
            "\n",
            "Winning Percent of  India  in month of  Feb 83.333 %  [Total Matches Played: 6  Wins : 5 ]\n",
            "\n",
            "\n",
            "\n",
            "\n",
            "Winning Percent of  India  in month of  Jul 33.333 %  [Total Matches Played: 3  Wins : 1 ]\n",
            "\n",
            "Winning Percent of  India  in month of  Sep 100.0 %  [Total Matches Played: 5  Wins : 5 ]\n",
            "Winning Percent of  India  in month of  Oct 66.667 %  [Total Matches Played: 3  Wins : 2 ]\n",
            "Winning Percent of  India  in month of  Nov 100.0 %  [Total Matches Played: 1  Wins : 1 ]\n",
            "\n",
            "\n",
            "\n",
            "\n",
            "\n",
            "\n",
            "\n",
            "Winning Percent of  Bangladesh  in month of  Jul 66.667 %  [Total Matches Played: 3  Wins : 2 ]\n",
            "\n",
            "Winning Percent of  Bangladesh  in month of  Sep 50.0 %  [Total Matches Played: 6  Wins : 3 ]\n",
            "Winning Percent of  Bangladesh  in month of  Oct 100.0 %  [Total Matches Played: 3  Wins : 3 ]\n",
            "\n",
            "Winning Percent of  Bangladesh  in month of  Dec 66.667 %  [Total Matches Played: 3  Wins : 2 ]\n"
          ]
        }
      ]
    },
    {
      "cell_type": "code",
      "metadata": {
        "colab": {
          "base_uri": "https://localhost:8080/",
          "height": 1118
        },
        "id": "DRI78f1E8Spw",
        "outputId": "fe83378f-f8bf-4676-f506-ae6d815cb8d4"
      },
      "source": [
        "for i in range(3):\n",
        "  f=plt.figure()\n",
        "  f.set_figwidth(10)\n",
        "  f.set_figheight(20)\n",
        "  plt.subplot(3,1,i+1)\n",
        "  plt.bar(pd.Series(pd.Series(win_3)[i]).index,pd.Series(pd.Series(win_3)[i]).values)\n",
        "  plt.title(pd.Series(win_3).index[i])\n",
        "  plt.show()"
      ],
      "execution_count": 17,
      "outputs": [
        {
          "output_type": "display_data",
          "data": {
            "image/png": "[encoded data removed]",
            "text/plain": [
              "<Figure size 720x1440 with 1 Axes>"
            ]
          },
          "metadata": {
            "needs_background": "light"
          }
        },
        {
          "output_type": "display_data",
          "data": {
            "image/png": "[encoded data removed]",
            "text/plain": [
              "<Figure size 720x1440 with 1 Axes>"
            ]
          },
          "metadata": {
            "needs_background": "light"
          }
        },
        {
          "output_type": "display_data",
          "data": {
            "image/png": "[encoded data removed]",
            "text/plain": [
              "<Figure size 720x1440 with 1 Axes>"
            ]
          },
          "metadata": {
            "needs_background": "light"
          }
        }
      ]
    },
    {
      "cell_type": "markdown",
      "metadata": {
        "id": "ko1C1z2MwU19"
      },
      "source": [
        "Team which had lost most of the matches?"
      ]
    },
    {
      "cell_type": "code",
      "metadata": {
        "id": "zScvSk5rA1Wi"
      },
      "source": [
        "total=[]\n",
        "win_total=[]\n",
        "country=pd.Series(list(df['Team 1'])+list(df['Team 2'])).unique()\n",
        "\n",
        "for i in country:\n",
        "    try:\n",
        "      team1=df['Team 1'].value_counts()[i]\n",
        "    except:\n",
        "      team1=0\n",
        "    try:\n",
        "      team2=df['Team 2'].value_counts()[i]\n",
        "    except:\n",
        "      team2=0\n",
        "    try:\n",
        "      win=df['Winner'].value_counts()[i]\n",
        "    except:\n",
        "      win=0\n",
        "    total.append(team1+team2)\n",
        "    win_total.append(win)"
      ],
      "execution_count": 18,
      "outputs": []
    },
    {
      "cell_type": "code",
      "metadata": {
        "colab": {
          "base_uri": "https://localhost:8080/",
          "height": 630
        },
        "id": "0pwY0cVoI0h4",
        "outputId": "e2fefc2b-c6e3-4489-ccd2-043510a8ed7f"
      },
      "source": [
        "print('This dataframe shows the order of countries in ascending order of winning rate')\n",
        "compar=pd.DataFrame({'Country':country,'Total':total,'Wins':win_total})\n",
        "compar['Win%']=compar.Wins/compar.Total*100\n",
        "compar.sort_values(by='Win%').reset_index().drop(columns=['index'])"
      ],
      "execution_count": 19,
      "outputs": [
        {
          "output_type": "stream",
          "name": "stdout",
          "text": [
            "This dataframe shows the order of countries in ascending order of winning rate\n"
          ]
        },
        {
          "output_type": "execute_result",
          "data": {
            "text/html": [
              "<div>\n",
              "<style scoped>\n",
              "    .dataframe tbody tr th:only-of-type {\n",
              "        vertical-align: middle;\n",
              "    }\n",
              "\n",
              "    .dataframe tbody tr th {\n",
              "        vertical-align: top;\n",
              "    }\n",
              "\n",
              "    .dataframe thead th {\n",
              "        text-align: right;\n",
              "    }\n",
              "</style>\n",
              "<table border=\"1\" class=\"dataframe\">\n",
              "  <thead>\n",
              "    <tr style=\"text-align: right;\">\n",
              "      <th></th>\n",
              "      <th>Country</th>\n",
              "      <th>Total</th>\n",
              "      <th>Wins</th>\n",
              "      <th>Win%</th>\n",
              "    </tr>\n",
              "  </thead>\n",
              "  <tbody>\n",
              "    <tr>\n",
              "      <th>0</th>\n",
              "      <td>Australia</td>\n",
              "      <td>13</td>\n",
              "      <td>2</td>\n",
              "      <td>15.384615</td>\n",
              "    </tr>\n",
              "    <tr>\n",
              "      <th>1</th>\n",
              "      <td>Hong Kong</td>\n",
              "      <td>6</td>\n",
              "      <td>1</td>\n",
              "      <td>16.666667</td>\n",
              "    </tr>\n",
              "    <tr>\n",
              "      <th>2</th>\n",
              "      <td>Zimbabwe</td>\n",
              "      <td>25</td>\n",
              "      <td>5</td>\n",
              "      <td>20.000000</td>\n",
              "    </tr>\n",
              "    <tr>\n",
              "      <th>3</th>\n",
              "      <td>P.N.G.</td>\n",
              "      <td>4</td>\n",
              "      <td>1</td>\n",
              "      <td>25.000000</td>\n",
              "    </tr>\n",
              "    <tr>\n",
              "      <th>4</th>\n",
              "      <td>Nepal</td>\n",
              "      <td>3</td>\n",
              "      <td>1</td>\n",
              "      <td>33.333333</td>\n",
              "    </tr>\n",
              "    <tr>\n",
              "      <th>5</th>\n",
              "      <td>U.A.E.</td>\n",
              "      <td>11</td>\n",
              "      <td>4</td>\n",
              "      <td>36.363636</td>\n",
              "    </tr>\n",
              "    <tr>\n",
              "      <th>6</th>\n",
              "      <td>Sri Lanka</td>\n",
              "      <td>16</td>\n",
              "      <td>6</td>\n",
              "      <td>37.500000</td>\n",
              "    </tr>\n",
              "    <tr>\n",
              "      <th>7</th>\n",
              "      <td>West Indies</td>\n",
              "      <td>17</td>\n",
              "      <td>8</td>\n",
              "      <td>47.058824</td>\n",
              "    </tr>\n",
              "    <tr>\n",
              "      <th>8</th>\n",
              "      <td>Pakistan</td>\n",
              "      <td>17</td>\n",
              "      <td>8</td>\n",
              "      <td>47.058824</td>\n",
              "    </tr>\n",
              "    <tr>\n",
              "      <th>9</th>\n",
              "      <td>Scotland</td>\n",
              "      <td>10</td>\n",
              "      <td>5</td>\n",
              "      <td>50.000000</td>\n",
              "    </tr>\n",
              "    <tr>\n",
              "      <th>10</th>\n",
              "      <td>Netherlands</td>\n",
              "      <td>2</td>\n",
              "      <td>1</td>\n",
              "      <td>50.000000</td>\n",
              "    </tr>\n",
              "    <tr>\n",
              "      <th>11</th>\n",
              "      <td>South Africa</td>\n",
              "      <td>17</td>\n",
              "      <td>9</td>\n",
              "      <td>52.941176</td>\n",
              "    </tr>\n",
              "    <tr>\n",
              "      <th>12</th>\n",
              "      <td>Ireland</td>\n",
              "      <td>13</td>\n",
              "      <td>8</td>\n",
              "      <td>61.538462</td>\n",
              "    </tr>\n",
              "    <tr>\n",
              "      <th>13</th>\n",
              "      <td>Afghanistan</td>\n",
              "      <td>19</td>\n",
              "      <td>12</td>\n",
              "      <td>63.157895</td>\n",
              "    </tr>\n",
              "    <tr>\n",
              "      <th>14</th>\n",
              "      <td>Bangladesh</td>\n",
              "      <td>20</td>\n",
              "      <td>13</td>\n",
              "      <td>65.000000</td>\n",
              "    </tr>\n",
              "    <tr>\n",
              "      <th>15</th>\n",
              "      <td>New Zealand</td>\n",
              "      <td>12</td>\n",
              "      <td>8</td>\n",
              "      <td>66.666667</td>\n",
              "    </tr>\n",
              "    <tr>\n",
              "      <th>16</th>\n",
              "      <td>England</td>\n",
              "      <td>23</td>\n",
              "      <td>17</td>\n",
              "      <td>73.913043</td>\n",
              "    </tr>\n",
              "    <tr>\n",
              "      <th>17</th>\n",
              "      <td>India</td>\n",
              "      <td>18</td>\n",
              "      <td>14</td>\n",
              "      <td>77.777778</td>\n",
              "    </tr>\n",
              "  </tbody>\n",
              "</table>\n",
              "</div>"
            ],
            "text/plain": [
              "         Country  Total  Wins       Win%\n",
              "0      Australia     13     2  15.384615\n",
              "1      Hong Kong      6     1  16.666667\n",
              "2       Zimbabwe     25     5  20.000000\n",
              "3         P.N.G.      4     1  25.000000\n",
              "4          Nepal      3     1  33.333333\n",
              "5         U.A.E.     11     4  36.363636\n",
              "6      Sri Lanka     16     6  37.500000\n",
              "7    West Indies     17     8  47.058824\n",
              "8       Pakistan     17     8  47.058824\n",
              "9       Scotland     10     5  50.000000\n",
              "10   Netherlands      2     1  50.000000\n",
              "11  South Africa     17     9  52.941176\n",
              "12       Ireland     13     8  61.538462\n",
              "13   Afghanistan     19    12  63.157895\n",
              "14    Bangladesh     20    13  65.000000\n",
              "15   New Zealand     12     8  66.666667\n",
              "16       England     23    17  73.913043\n",
              "17         India     18    14  77.777778"
            ]
          },
          "metadata": {},
          "execution_count": 19
        }
      ]
    },
    {
      "cell_type": "code",
      "metadata": {
        "colab": {
          "base_uri": "https://localhost:8080/",
          "height": 366
        },
        "id": "VH3wp2jIN9Jf",
        "outputId": "259308d1-0a17-47d1-b4b7-6fa6c7ec9c5c"
      },
      "source": [
        "f=plt.figure()\n",
        "f.set_figheight(50)\n",
        "plt.pie(compar['Win%'],labels=compar.Country,shadow=True,explode=[0,0,-0.2,0.2,0,0,0,0,0,-0.2,-0.2,0,0.2,0,0,0,.2,0])\n",
        "plt.show()"
      ],
      "execution_count": 20,
      "outputs": [
        {
          "output_type": "display_data",
          "data": {
            "image/png": "[encoded data removed]",
            "text/plain": [
              "<Figure size 432x3600 with 1 Axes>"
            ]
          },
          "metadata": {}
        }
      ]
    },
    {
      "cell_type": "markdown",
      "metadata": {
        "id": "vZSlxeS3waRh"
      },
      "source": [
        "Did the team in previous question lost mostly by chasing?"
      ]
    },
    {
      "cell_type": "code",
      "metadata": {
        "colab": {
          "base_uri": "https://localhost:8080/",
          "height": 0
        },
        "id": "mlgqvBmDQBjp",
        "outputId": "02eaeee4-79e4-450f-bcee-ee8e20666139"
      },
      "source": [
        "a=np.where(df['Team 2']=='Australia',True,False)\n",
        "b=np.where(df['Team 1']=='Australia',True,False)\n",
        "australia=df[a+b].reset_index().drop(columns=['index'])\n",
        "australia=australia.drop(np.where(australia['Winner']=='Australia')[0])\n",
        "\n",
        "#where the run margin is nan it signifies the winner team won by chasing and the loser lost by playing first\n",
        "playfirst=australia['Run Margin'].isnull().sum()\n",
        "chasing=australia['Wicket Margin'].isnull().sum()\n",
        "\n",
        "print('Lost by Chasing are ',chasing)\n",
        "print('Lost by playing first ',playfirst)\n",
        "if chasing>playfirst:\n",
        "  print('Australia lost mostly by chasing')\n",
        "elif chasing==playfirst:\n",
        "  print(\"Australia's loosing analytics is same for both chasing and playing first\")\n",
        "else:\n",
        "  print('Australia lost mostly by playing first')"
      ],
      "execution_count": 44,
      "outputs": [
        {
          "output_type": "stream",
          "name": "stdout",
          "text": [
            "Lost by Chasing are  6\n",
            "Lost by playing first  6\n",
            "Australia's loosing analytics is same for both chasing and playing first\n"
          ]
        }
      ]
    }
  ]
}